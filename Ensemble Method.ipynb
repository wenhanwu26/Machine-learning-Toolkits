{
 "cells": [
  {
   "cell_type": "markdown",
   "metadata": {},
   "source": [
    "### Averaging KNN, Decision Tree, Random Forest"
   ]
  },
  {
   "cell_type": "code",
   "execution_count": 3,
   "metadata": {},
   "outputs": [
    {
     "data": {
      "text/plain": [
       "'%.2f'"
      ]
     },
     "execution_count": 3,
     "metadata": {},
     "output_type": "execute_result"
    }
   ],
   "source": [
    "\n",
    "import numpy as np\n",
    "import numpy.random as npr\n",
    "\n",
    "from sklearn.tree import DecisionTreeClassifier\n",
    "from sklearn.neighbors import  KNeighborsClassifier\n",
    "from sklearn.ensemble import RandomForestClassifier\n",
    "\n",
    "import matplotlib.pyplot as plt\n",
    "%matplotlib inline\n",
    "\n",
    "%precision %.2f"
   ]
  },
  {
   "cell_type": "code",
   "execution_count": 4,
   "metadata": {},
   "outputs": [],
   "source": [
    "# Get the dataset X, Yy\n",
    "import sklearn.datasets\n",
    "\n",
    "# load the newsgroups data\n",
    "train = sklearn.datasets.fetch_20newsgroups_vectorized(subset='train')\n",
    "X_train = train.data\n",
    "y_train = train.target\n",
    "\n",
    "test = sklearn.datasets.fetch_20newsgroups_vectorized(subset='test')\n",
    "X_test = test.data\n",
    "y_test = test.target"
   ]
  },
  {
   "cell_type": "code",
   "execution_count": 5,
   "metadata": {},
   "outputs": [
    {
     "name": "stdout",
     "output_type": "stream",
     "text": [
      "n = 11314\n",
      "d = 130107\n",
      "t = 7532\n",
      "number of classes = 20\n"
     ]
    }
   ],
   "source": [
    "print(\"n =\", X_train.shape[0])\n",
    "print(\"d =\", X_train.shape[1])\n",
    "print(\"t =\", X_test.shape[0])\n",
    "num_classes = len(np.unique(y_train))\n",
    "print(\"number of classes =\", num_classes)"
   ]
  },
  {
   "cell_type": "code",
   "execution_count": 6,
   "metadata": {},
   "outputs": [],
   "source": [
    "#method to print training error and test error for a model\n",
    "def print_errs(model):\n",
    "    train_err = 1-model.score(X_train, y_train)\n",
    "    test_err  = 1-model.score(X_test,  y_test)\n",
    "\n",
    "    print(\"Train error:\", train_err)\n",
    "    print(\"Test  error:\", test_err)"
   ]
  },
  {
   "cell_type": "code",
   "execution_count": 7,
   "metadata": {},
   "outputs": [
    {
     "name": "stderr",
     "output_type": "stream",
     "text": [
      "C:\\Users\\Admin\\Anaconda3\\lib\\site-packages\\ipykernel_launcher.py:2: MatplotlibDeprecationWarning: \n",
      "The 'normed' kwarg was deprecated in Matplotlib 2.1 and will be removed in 3.1. Use 'density' instead.\n",
      "  \n"
     ]
    },
    {
     "data": {
      "image/png": "[encoded data removed]",
      "text/plain": [
       "<Figure size 432x288 with 1 Axes>"
      ]
     },
     "metadata": {
      "needs_background": "light"
     },
     "output_type": "display_data"
    }
   ],
   "source": [
    "# check the uniformity of the training labels\n",
    "plt.hist(y_train, normed=True, bins=np.unique(y_train));"
   ]
  },
  {
   "cell_type": "markdown",
   "metadata": {},
   "source": [
    "### Ensemble decision tree, KNN, and random forest"
   ]
  },
  {
   "cell_type": "code",
   "execution_count": 8,
   "metadata": {},
   "outputs": [
    {
     "name": "stdout",
     "output_type": "stream",
     "text": [
      "Train error: 8.838607035532853e-05\n",
      "Test  error: 0.44144981412639406\n"
     ]
    }
   ],
   "source": [
    "#Descison Tree\n",
    "dt = DecisionTreeClassifier()\n",
    "dt.fit(X_train, y_train)\n",
    "\n",
    "print_errs(dt)"
   ]
  },
  {
   "cell_type": "code",
   "execution_count": 9,
   "metadata": {},
   "outputs": [
    {
     "name": "stderr",
     "output_type": "stream",
     "text": [
      "C:\\Users\\Admin\\Anaconda3\\lib\\site-packages\\sklearn\\ensemble\\forest.py:245: FutureWarning: The default value of n_estimators will change from 10 in version 0.20 to 100 in 0.22.\n",
      "  \"10 in version 0.20 to 100 in 0.22.\", FutureWarning)\n"
     ]
    },
    {
     "name": "stdout",
     "output_type": "stream",
     "text": [
      "Train error: 0.0017677214071062375\n",
      "Test  error: 0.43773234200743494\n"
     ]
    }
   ],
   "source": [
    "#Random Forest\n",
    "rf = RandomForestClassifier()\n",
    "rf.fit(X_train, y_train)\n",
    "\n",
    "print_errs(rf)"
   ]
  },
  {
   "cell_type": "code",
   "execution_count": 10,
   "metadata": {},
   "outputs": [
    {
     "name": "stdout",
     "output_type": "stream",
     "text": [
      "Train error: 0.20867951210889168\n",
      "Test  error: 0.5916091343600638\n"
     ]
    }
   ],
   "source": [
    "#KNN\n",
    "knn = KNeighborsClassifier()\n",
    "knn.fit(X_train, y_train)\n",
    "\n",
    "print_errs(knn)"
   ]
  },
  {
   "cell_type": "code",
   "execution_count": 11,
   "metadata": {},
   "outputs": [
    {
     "name": "stdout",
     "output_type": "stream",
     "text": [
      "Train error: 0.0008838607035531743\n",
      "Test  error: 0.4114445034519384\n"
     ]
    }
   ],
   "source": [
    "#Ensemble three classifier\n",
    "from sklearn.ensemble import VotingClassifier\n",
    "\n",
    "classifiers = {\n",
    "    \"decision tree\" : dt,\n",
    "    \"random forest\" : rf,\n",
    "    \"KNN\"           : knn\n",
    "}\n",
    "\n",
    "ensemble = VotingClassifier(classifiers.items())\n",
    "ensemble.fit(X_train, y_train)\n",
    "\n",
    "print_errs(ensemble)"
   ]
  },
  {
   "cell_type": "markdown",
   "metadata": {},
   "source": [
    "### XGBoost"
   ]
  },
  {
   "cell_type": "code",
   "execution_count": 12,
   "metadata": {},
   "outputs": [],
   "source": [
    "import xgboost as xgb\n",
    "import scipy.sparse\n",
    "\n",
    "dtrain = xgb.DMatrix(scipy.sparse.csc_matrix(X_train), label=y_train)\n",
    "dtest =  xgb.DMatrix(scipy.sparse.csc_matrix(X_test),  label=y_test)"
   ]
  },
  {
   "cell_type": "code",
   "execution_count": 13,
   "metadata": {},
   "outputs": [],
   "source": [
    "\n",
    "param = {'max_depth':10, 'eta':1, 'silent':1, 'objective':'multi:softmax', 'num_class':num_classes}\n",
    "num_round = 10 # number of trees\n",
    "\n",
    "bst = xgb.train(param, dtrain, num_round)"
   ]
  },
  {
   "cell_type": "code",
   "execution_count": 14,
   "metadata": {},
   "outputs": [
    {
     "name": "stdout",
     "output_type": "stream",
     "text": [
      "Train error: 0.00035354428142124803\n",
      "Test error: 0.32833244822092406\n"
     ]
    }
   ],
   "source": [
    "\n",
    "yhat_train = bst.predict(dtrain)\n",
    "yhat_test  = bst.predict(dtest)\n",
    "\n",
    "print(\"Train error:\", np.mean(yhat_train != y_train))\n",
    "print(\"Test error:\",  np.mean(yhat_test != y_test))"
   ]
  },
  {
   "cell_type": "code",
   "execution_count": null,
   "metadata": {},
   "outputs": [],
   "source": []
  }
 ],
 "metadata": {
  "kernelspec": {
   "display_name": "Python 3",
   "language": "python",
   "name": "python3"
  },
  "language_info": {
   "codemirror_mode": {
    "name": "ipython",
    "version": 3
   },
   "file_extension": ".py",
   "mimetype": "text/x-python",
   "name": "python",
   "nbconvert_exporter": "python",
   "pygments_lexer": "ipython3",
   "version": "3.7.3"
  }
 },
 "nbformat": 4,
 "nbformat_minor": 2
}
