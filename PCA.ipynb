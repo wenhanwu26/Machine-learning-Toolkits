{
 "cells": [
  {
   "cell_type": "code",
   "execution_count": 4,
   "metadata": {},
   "outputs": [
    {
     "data": {
      "text/html": [
       "        <script type=\"text/javascript\">\n",
       "        window.PlotlyConfig = {MathJaxConfig: 'local'};\n",
       "        if (window.MathJax) {MathJax.Hub.Config({SVG: {font: \"STIX-Web\"}});}\n",
       "        if (typeof require !== 'undefined') {\n",
       "        require.undef(\"plotly\");\n",
       "        requirejs.config({\n",
       "            paths: {\n",
       "                'plotly': ['https://cdn.plot.ly/plotly-latest.min']\n",
       "            }\n",
       "        });\n",
       "        require(['plotly'], function(Plotly) {\n",
       "            window._Plotly = Plotly;\n",
       "        });\n",
       "        }\n",
       "        </script>\n",
       "        "
      ]
     },
     "metadata": {},
     "output_type": "display_data"
    }
   ],
   "source": [
    "import numpy as np\n",
    "import matplotlib.pyplot as plt\n",
    "%matplotlib inline\n",
    "from sklearn.decomposition import PCA\n",
    "\n",
    "import plotly.graph_objs as go\n",
    "\n",
    "from plotly.offline import download_plotlyjs, init_notebook_mode, plot, iplot\n",
    "init_notebook_mode(connected=True)"
   ]
  },
  {
   "cell_type": "code",
   "execution_count": 5,
   "metadata": {},
   "outputs": [],
   "source": [
    "#X is training data\n",
    "n = 12\n",
    "d = 2\n",
    "\n",
    "x1 = np.linspace(0,5,n)  + np.random.randn(n)*0.05\n",
    "x2 = x1*0.7 + np.random.randn(n)*0.5\n",
    "x1 = x1-np.mean(x1)\n",
    "x2 = x2-np.mean(x2)\n",
    "\n",
    "X = np.concatenate((x1[:,None],x2[:,None]),axis=1)"
   ]
  },
  {
   "cell_type": "code",
   "execution_count": 6,
   "metadata": {},
   "outputs": [
    {
     "data": {
      "image/png": "[encoded data removed]",
      "text/plain": [
       "<Figure size 432x288 with 1 Axes>"
      ]
     },
     "metadata": {
      "needs_background": "light"
     },
     "output_type": "display_data"
    }
   ],
   "source": [
    "#plot X\n",
    "plt.scatter(x1,x2)\n",
    "plt.xlabel('x1')\n",
    "plt.ylabel('x2');"
   ]
  },
  {
   "cell_type": "code",
   "execution_count": 7,
   "metadata": {},
   "outputs": [],
   "source": [
    "#Run PCA\n",
    "k = 1 #to 1D\n",
    "pca = PCA(n_components=k)\n",
    "pca.fit(X);"
   ]
  },
  {
   "cell_type": "code",
   "execution_count": 8,
   "metadata": {},
   "outputs": [
    {
     "name": "stdout",
     "output_type": "stream",
     "text": [
      "[[-0.82683561 -0.56244366]]\n",
      "[[ 3.47056383]\n",
      " [ 2.24737991]\n",
      " [ 1.91313808]\n",
      " [ 1.19299014]\n",
      " [ 0.64349671]\n",
      " [ 0.2159618 ]\n",
      " [-0.29551806]\n",
      " [-1.06253745]\n",
      " [-1.19866918]\n",
      " [-1.49022037]\n",
      " [-2.66288428]\n",
      " [-2.97370112]]\n"
     ]
    }
   ],
   "source": [
    "# W and Z and Xhat\n",
    "W = pca.components_\n",
    "Z = pca.transform(X)\n",
    "Xhat = pca.inverse_transform(Z)\n",
    "print(W)\n",
    "print(Z)"
   ]
  },
  {
   "cell_type": "code",
   "execution_count": 11,
   "metadata": {},
   "outputs": [
    {
     "name": "stdout",
     "output_type": "stream",
     "text": [
      "[0.97097757]\n"
     ]
    }
   ],
   "source": [
    "# Variance explained\n",
    "variance_explained = pca.explained_variance_ratio_\n",
    "print(variance_explained) #variance explained on each principal component (basis vector) \n",
    "#here only one basis vector"
   ]
  },
  {
   "cell_type": "code",
   "execution_count": null,
   "metadata": {},
   "outputs": [],
   "source": []
  }
 ],
 "metadata": {
  "kernelspec": {
   "display_name": "Python 3",
   "language": "python",
   "name": "python3"
  },
  "language_info": {
   "codemirror_mode": {
    "name": "ipython",
    "version": 3
   },
   "file_extension": ".py",
   "mimetype": "text/x-python",
   "name": "python",
   "nbconvert_exporter": "python",
   "pygments_lexer": "ipython3",
   "version": "3.7.3"
  }
 },
 "nbformat": 4,
 "nbformat_minor": 2
}
