{
 "cells": [
  {
   "cell_type": "code",
   "execution_count": 1,
   "metadata": {},
   "outputs": [],
   "source": [
    "import numpy as np\n",
    "import numpy.random as npr\n",
    "import sklearn\n",
    "import sklearn.linear_model\n",
    "import matplotlib.pyplot as plt\n",
    "%matplotlib inline"
   ]
  },
  {
   "cell_type": "code",
   "execution_count": 2,
   "metadata": {},
   "outputs": [],
   "source": [
    "# generate data\n",
    "d = 10\n",
    "n = 1000\n",
    "\n",
    "X = npr.randn(n,d)\n",
    "y = npr.randn(n)"
   ]
  },
  {
   "cell_type": "markdown",
   "metadata": {},
   "source": [
    "### Linear Regression"
   ]
  },
  {
   "cell_type": "code",
   "execution_count": 3,
   "metadata": {},
   "outputs": [
    {
     "name": "stdout",
     "output_type": "stream",
     "text": [
      "Intercept: -0.038324\n",
      "Weights: [ 0.00168957  0.03217375  0.0437283  -0.02871582  0.01156993 -0.03583473\n",
      "  0.05886338 -0.02954545  0.03515298 -0.00954774]\n"
     ]
    }
   ],
   "source": [
    "#sklearn\n",
    "lr = sklearn.linear_model.LinearRegression()\n",
    "lr.fit(X,y)\n",
    "print(\"Intercept: %f\" % lr.intercept_)\n",
    "print(\"Weights: %s\" % lr.coef_)"
   ]
  },
  {
   "cell_type": "code",
   "execution_count": 4,
   "metadata": {},
   "outputs": [
    {
     "name": "stdout",
     "output_type": "stream",
     "text": [
      "Intercept: -0.038324\n",
      "Weights: [ 0.00168957  0.03217375  0.0437283  -0.02871582  0.01156993 -0.03583473\n",
      "  0.05886338 -0.02954545  0.03515298 -0.00954774]\n"
     ]
    }
   ],
   "source": [
    "#solving least squraed (loss function) with normal equation\n",
    "\n",
    "# add a feature of all 1's for intercept \n",
    "X = np.append(np.ones(X.shape[0])[:,None], X, axis=1)\n",
    "\n",
    "weights = np.linalg.solve(X.T@X,X.T@y)\n",
    "\n",
    "print(\"Intercept: %f\" % weights[0])\n",
    "print(\"Weights: %s\" % weights[1:])"
   ]
  },
  {
   "cell_type": "code",
   "execution_count": 5,
   "metadata": {},
   "outputs": [
    {
     "name": "stdout",
     "output_type": "stream",
     "text": [
      "Intercept: -0.038324\n",
      "Weights: [ 0.00168949  0.03217391  0.04372799 -0.02871554  0.01156999 -0.03583457\n",
      "  0.05886271 -0.02954514  0.03515244 -0.00954735]\n"
     ]
    }
   ],
   "source": [
    "#solving least squraed (loss function) with gradient descent\n",
    "\n",
    "\n",
    "alpha = 0.00001\n",
    "\n",
    "grad_f = lambda w: X.T@(X@w) - X.T@y #gradient of least squraed\n",
    "\n",
    "\n",
    "w = np.zeros(X.shape[1]) # initial guess\n",
    "\n",
    "g = grad_f(w)\n",
    "while np.linalg.norm(g) > 0.001:\n",
    "    g = grad_f(w)\n",
    "    \n",
    "    w -= alpha*g\n",
    "#     w = w - alpha*g\n",
    "    \n",
    "print(\"Intercept: %f\" % w[0])\n",
    "print(\"Weights: %s\" % w[1:])"
   ]
  },
  {
   "cell_type": "markdown",
   "metadata": {},
   "source": [
    "### Robust regression with gradient descent"
   ]
  },
  {
   "cell_type": "code",
   "execution_count": null,
   "metadata": {},
   "outputs": [],
   "source": []
  }
 ],
 "metadata": {
  "kernelspec": {
   "display_name": "Python 3",
   "language": "python",
   "name": "python3"
  },
  "language_info": {
   "codemirror_mode": {
    "name": "ipython",
    "version": 3
   },
   "file_extension": ".py",
   "mimetype": "text/x-python",
   "name": "python",
   "nbconvert_exporter": "python",
   "pygments_lexer": "ipython3",
   "version": "3.7.3"
  }
 },
 "nbformat": 4,
 "nbformat_minor": 2
}
