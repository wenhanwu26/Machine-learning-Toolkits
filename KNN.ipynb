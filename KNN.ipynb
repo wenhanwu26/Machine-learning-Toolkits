{
 "cells": [
  {
   "cell_type": "code",
   "execution_count": 1,
   "metadata": {},
   "outputs": [],
   "source": [
    "\n",
    "\n",
    "import numpy as np\n",
    "import numpy.random as npr\n",
    "\n",
    "from sklearn.tree import DecisionTreeClassifier\n",
    "from sklearn.neighbors import  KNeighborsClassifier\n",
    "\n",
    "import matplotlib.pyplot as plt\n",
    "%matplotlib inline"
   ]
  },
  {
   "cell_type": "code",
   "execution_count": 2,
   "metadata": {},
   "outputs": [
    {
     "data": {
      "text/plain": [
       "<matplotlib.legend.Legend at 0x28d08da16a0>"
      ]
     },
     "execution_count": 2,
     "metadata": {},
     "output_type": "execute_result"
    },
    {
     "data": {
      "image/png": "[encoded data removed]",
      "text/plain": [
       "<Figure size 432x288 with 1 Axes>"
      ]
     },
     "metadata": {
      "needs_background": "light"
     },
     "output_type": "display_data"
    }
   ],
   "source": [
    "#fake X, y\n",
    "N = 50\n",
    "X = npr.randn(N,2)\n",
    "y = npr.choice((-1,+1),size=N)\n",
    "X[y>0,0] += 2\n",
    "X[y>0,1] += 2\n",
    "\n",
    "plt.scatter(X[y<0,0], X[y<0,1], color=\"b\", marker=\"x\", label=\"class $-1$\")\n",
    "plt.scatter(X[y>0,0], X[y>0,1], color=\"r\", marker=\"o\",  label=\"class $+1$\")\n",
    "plt.tick_params(axis='both', which='both', bottom='off', left='off', labelbottom='off', labelleft='off') # remove ticks\n",
    "plt.legend(loc=\"best\")"
   ]
  },
  {
   "cell_type": "code",
   "execution_count": 4,
   "metadata": {},
   "outputs": [],
   "source": [
    "# code adapted from http://scikit-learn.org/stable/auto_examples/svm/plot_iris.html\n",
    "# work for d = 2\n",
    "def plotClassifier(model, X, y, transformation=None, filename=None):\n",
    "    x1 = X[:, 0]\n",
    "    x2 = X[:, 1]\n",
    "    \n",
    "    x1_min, x1_max = int(x1.min()) - 1, int(x1.max()) + 1\n",
    "    x2_min, x2_max = int(x2.min()) - 1, int(x2.max()) + 1\n",
    "\n",
    "    x1_line =  np.linspace(x1_min, x1_max,200)\n",
    "    x2_line =  np.linspace(x2_min, x2_max,200)\n",
    "\n",
    "    x1_mesh, x2_mesh = np.meshgrid(x1_line, x2_line)\n",
    "\n",
    "    mesh_data = np.c_[x1_mesh.ravel(), x2_mesh.ravel()]\n",
    "    \n",
    "    if transformation is not None:\n",
    "        mesh_data = transformation(mesh_data)\n",
    "    y_pred = model.predict(mesh_data)\n",
    "    y_pred = np.reshape(y_pred, x1_mesh.shape)\n",
    "\n",
    "    plt.xlim([x1_mesh.min(), x1_mesh.max()])\n",
    "    plt.ylim([x2_mesh.min(), x2_mesh.max()])\n",
    "\n",
    "    plt.contourf(x1_mesh, x2_mesh, -y_pred, cmap=plt.cm.RdBu, alpha=0.6)\n",
    "\n",
    "    plt.scatter(x1[y<0], x2[y<0], color=\"b\", marker=\"x\", label=\"class $-1$\")\n",
    "    plt.scatter(x1[y>0], x2[y>0], color=\"r\", marker=\"o\", label=\"class $+1$\")\n",
    "    plt.legend(loc=\"best\")\n",
    "    plt.tick_params(axis='both', which='both', bottom='off', left='off', labelbottom='off', labelleft='off') # remove ticks\n",
    "    if filename is not None:\n",
    "        plt.savefig(filename)"
   ]
  },
  {
   "cell_type": "markdown",
   "metadata": {},
   "source": [
    "### KNN Classifier "
   ]
  },
  {
   "cell_type": "code",
   "execution_count": 5,
   "metadata": {},
   "outputs": [
    {
     "data": {
      "image/png": "[encoded data removed]",
      "text/plain": [
       "<Figure size 432x288 with 1 Axes>"
      ]
     },
     "metadata": {
      "needs_background": "light"
     },
     "output_type": "display_data"
    }
   ],
   "source": [
    "nn = KNeighborsClassifier(n_neighbors=1)\n",
    "nn.fit(X,y)\n",
    "plotClassifier(nn, X, y)"
   ]
  },
  {
   "cell_type": "code",
   "execution_count": null,
   "metadata": {},
   "outputs": [],
   "source": []
  }
 ],
 "metadata": {
  "kernelspec": {
   "display_name": "Python 3",
   "language": "python",
   "name": "python3"
  },
  "language_info": {
   "codemirror_mode": {
    "name": "ipython",
    "version": 3
   },
   "file_extension": ".py",
   "mimetype": "text/x-python",
   "name": "python",
   "nbconvert_exporter": "python",
   "pygments_lexer": "ipython3",
   "version": "3.7.3"
  }
 },
 "nbformat": 4,
 "nbformat_minor": 2
}
